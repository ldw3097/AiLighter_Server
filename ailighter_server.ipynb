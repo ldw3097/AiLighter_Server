{
 "cells": [
  {
   "cell_type": "code",
   "execution_count": 1,
   "metadata": {},
   "outputs": [],
   "source": [
    "import os\n",
    "os.chdir(\"/home/dongwon/korbertsum/src\")"
   ]
  },
  {
   "cell_type": "code",
   "execution_count": 14,
   "metadata": {},
   "outputs": [],
   "source": [
    "import easydict\n",
    "import argparse\n",
    "import glob\n",
    "import os\n",
    "import random\n",
    "import signal\n",
    "import time\n",
    "import numpy as np\n",
    "import torch\n",
    "from pytorch_pretrained_bert import BertConfig\n",
    "\n",
    "import distributed\n",
    "from models import data_loader, model_builder\n",
    "from models.data_loader import load_dataset\n",
    "from models.model_builder import Summarizer\n",
    "from tensorboardX import SummaryWriter\n",
    "from models.reporter import ReportMgr\n",
    "from models.stats import Statistics\n",
    "from others.logging import logger\n",
    "from others.logging import logger, init_logger\n",
    "from models.trainer import build_trainer\n",
    "\n",
    "args = easydict.EasyDict({\n",
    "    \"encoder\":'classifier',\n",
    "    \"mode\":'summary',\n",
    "    \"bert_data_path\":'/home/dongwon/korbertsum/bert_data/korean',\n",
    "    \"model_path\":'/home/dongwon/korbertsum/models/bert_classifier',\n",
    "    \"bert_model\":'/home/dongwon/001_bert_morp_pytorch',\n",
    "    \"result_path\":'/home/dongwon/korbertsum/results/korean',\n",
    "    \"temp_dir\":'.',\n",
    "    \"bert_config_path\":'/home/dongwon/001_bert_morp_pytorch/bert_config.json',\n",
    "    \"batch_size\":1000,\n",
    "    \"use_interval\":True,\n",
    "    \"hidden_size\":128,\n",
    "    \"ff_size\":512,\n",
    "    \"heads\":4,\n",
    "    \"inter_layers\":2,\n",
    "    \"rnn_size\":512,\n",
    "    \"param_init\":0,\n",
    "    \"param_init_glorot\":True,\n",
    "    \"dropout\":0.1,\n",
    "    \"optim\":'adam',\n",
    "    \"lr\":2e-3,\n",
    "    \"report_every\":1,\n",
    "    \"save_checkpoint_steps\":5,\n",
    "    \"block_trigram\":True,\n",
    "    \"recall_eval\":False,\n",
    "    \n",
    "    \"accum_count\":1,\n",
    "    \"world_size\":1,\n",
    "    \"visible_gpus\":'-1',\n",
    "    \"gpu_ranks\":'0',\n",
    "    \"log_file\":'/home/dongwon/korbertsum/logs/bert_classifier',\n",
    "    \"test_from\":'/home/dongwon/korbertsum/models/bert_classifier/model_step_1000.pt'\n",
    "})"
   ]
  },
  {
   "cell_type": "code",
   "execution_count": 15,
   "metadata": {},
   "outputs": [],
   "source": [
    "def summary(args, b_list, device_id, pt, step):\n",
    "\n",
    "    device = \"cpu\" if args.visible_gpus == '-1' else \"cuda\"\n",
    "    if (pt != ''):\n",
    "        test_from = pt\n",
    "    else:\n",
    "        test_from = args.test_from\n",
    "    logger.info('Loading checkpoint from %s' % test_from)\n",
    "    checkpoint = torch.load(test_from, map_location=lambda storage, loc: storage)\n",
    "    opt = vars(checkpoint['opt'])\n",
    "    for k in opt.keys():\n",
    "        if (k in model_flags):\n",
    "            setattr(args, k, opt[k])\n",
    "    print(args)\n",
    "\n",
    "    config = BertConfig.from_json_file(args.bert_config_path)\n",
    "    model = Summarizer(args, device, load_pretrained_bert=False, bert_config = config)\n",
    "    model.load_cp(checkpoint)\n",
    "    model.eval()\n",
    "\n",
    "    test_iter =data_loader.Dataloader(args, _lazy_dataset_loader(b_list),\n",
    "                                  args.batch_size, device,\n",
    "                                  shuffle=False, is_test=True)\n",
    "    trainer = build_trainer(args, device_id, model, None)\n",
    "    result = trainer.summary(test_iter,step)\n",
    "    return result\n",
    "\n",
    "model_flags = ['hidden_size', 'ff_size', 'heads', 'inter_layers','encoder','ff_actv', 'use_interval','rnn_size']\n",
    "def _lazy_dataset_loader(pt_file):\n",
    "    dataset = pt_file\n",
    "    yield dataset"
   ]
  },
  {
   "cell_type": "code",
   "execution_count": 17,
   "metadata": {},
   "outputs": [
    {
     "name": "stdout",
     "output_type": "stream",
     "text": [
      "[{'src': [2, 616, 3168, 17, 1, 7925, 558, 81, 390, 3, 2, 1, 1, 1519, 10965, 2896, 182, 2322, 45, 1519, 319, 112, 20, 1, 1, 14, 2322, 20, 1, 19, 1412, 23, 37, 68, 3168, 54, 87, 16, 3119, 9, 7819, 457, 14, 2886, 9, 49, 2981, 252, 7, 239, 287, 475, 4910, 2546, 1, 1, 547, 1, 8892, 3, 2, 92, 1044, 16, 1, 9, 22, 543, 27, 1, 3203, 14, 3168, 24, 2322, 94, 1729, 19, 1412, 23, 37, 22, 33, 11, 808, 9, 48, 806, 9, 20, 77, 36, 84, 2886, 9, 1, 569, 24, 551, 9, 12, 8, 7, 1, 36, 21, 1044, 1, 13, 7925, 558, 81, 15, 312, 1, 2279, 85, 86, 11, 703, 9, 23, 37, 22, 33, 28, 276, 20, 111, 12, 8, 7, 3, 2, 1, 1, 477, 1, 1, 24, 673, 9, 22, 4910, 2546, 1, 1, 547, 1, 14, 18, 1, 1, 14, 2322, 94, 1, 19, 1412, 23, 37, 68, 3168, 19, 806, 102, 23, 208, 31, 3329, 569, 1, 15, 104, 2787, 13, 670, 16, 2645, 12, 8, 7, 3, 2, 670, 1, 3792, 1044, 1, 313, 109, 14, 119, 71, 90, 18, 115, 1, 125, 60, 519, 44, 429, 125, 298, 1776, 1461, 6532, 13, 92, 6276, 2743, 1, 14, 3119, 9, 49, 97, 20, 3113, 9, 12, 8, 7, 169, 3119, 364, 19, 508, 68, 313, 109, 18, 7620, 11, 2190, 20, 3119, 9, 1995, 61, 12, 8, 7, 3, 2, 670, 475, 4910, 2546, 1, 1, 547, 1, 8892, 3, 2, 2906, 17, 3232, 19, 2190, 639, 1, 2253, 19, 40, 23, 1, 3203, 14, 2322, 20, 37, 68, 594, 249, 1014, 13, 3168, 54, 87, 16, 38, 12, 68, 33, 7, 313, 109, 18, 77, 19, 1, 484, 9, 48, 806, 40, 12, 23, 17, 1, 14, 18, 77, 36, 16, 313, 109, 1044, 11, 808, 9, 23, 1299, 1535, 1953, 42, 12, 332, 1, 208, 14, 2886, 9, 22, 252, 16, 1984, 12, 8, 7, 3, 2, 313, 109, 18, 292, 233, 14, 73, 20, 1, 754, 13, 1, 18, 362, 47, 1836, 20, 37, 20, 112, 74, 754, 13, 1519, 18, 10965, 2896, 15, 265, 2322, 45, 1519, 27, 18, 1, 3168, 24, 1, 112, 48, 34, 59, 12, 23, 1, 3232, 14, 139, 16, 2322, 20, 37, 93, 3288, 15, 265, 203, 34, 806, 40, 12, 8, 1, 64, 4586, 9, 12, 8, 7, 3, 2, 979, 1, 3232, 1261, 6925, 1044, 16, 70, 12, 946, 112, 12, 124, 74, 2190, 4349, 37, 1517, 281, 639, 886, 569, 24, 551, 9, 12, 8, 1, 15, 312, 1, 1, 977, 19, 1364, 9, 23, 1, 1958, 36, 1579, 14, 1, 20, 1, 945, 3735, 3646, 1, 3288, 79, 3957, 11, 1603, 12, 96, 1, 12, 8, 1, 64, 1053, 12, 8, 7, 3, 2, 1, 36, 21, 569, 2082, 1, 2279, 85, 86, 11, 703, 9, 538, 3255, 195, 91, 44, 554, 941, 14, 4665, 9, 12, 128, 17, 1, 11, 1771, 85, 86, 28, 745, 2652, 1102, 18, 5279, 85, 86, 3], 'labels': [0, 0, 0, 0, 0, 0, 0, 0, 0, 0], 'segs': [0, 0, 0, 0, 0, 0, 0, 0, 0, 0, 1, 1, 1, 1, 1, 1, 1, 1, 1, 1, 1, 1, 1, 1, 1, 1, 1, 1, 1, 1, 1, 1, 1, 1, 1, 1, 1, 1, 1, 1, 1, 1, 1, 1, 1, 1, 1, 1, 1, 1, 1, 1, 1, 1, 1, 1, 1, 1, 1, 1, 0, 0, 0, 0, 0, 0, 0, 0, 0, 0, 0, 0, 0, 0, 0, 0, 0, 0, 0, 0, 0, 0, 0, 0, 0, 0, 0, 0, 0, 0, 0, 0, 0, 0, 0, 0, 0, 0, 0, 0, 0, 0, 0, 0, 0, 0, 0, 0, 0, 0, 0, 0, 0, 0, 0, 0, 0, 0, 0, 0, 0, 0, 0, 0, 0, 0, 0, 0, 0, 0, 0, 0, 0, 1, 1, 1, 1, 1, 1, 1, 1, 1, 1, 1, 1, 1, 1, 1, 1, 1, 1, 1, 1, 1, 1, 1, 1, 1, 1, 1, 1, 1, 1, 1, 1, 1, 1, 1, 1, 1, 1, 1, 1, 1, 1, 1, 1, 1, 1, 1, 1, 1, 1, 0, 0, 0, 0, 0, 0, 0, 0, 0, 0, 0, 0, 0, 0, 0, 0, 0, 0, 0, 0, 0, 0, 0, 0, 0, 0, 0, 0, 0, 0, 0, 0, 0, 0, 0, 0, 0, 0, 0, 0, 0, 0, 0, 0, 0, 0, 0, 0, 0, 0, 0, 0, 0, 0, 0, 0, 0, 0, 0, 0, 0, 0, 1, 1, 1, 1, 1, 1, 1, 1, 1, 1, 1, 0, 0, 0, 0, 0, 0, 0, 0, 0, 0, 0, 0, 0, 0, 0, 0, 0, 0, 0, 0, 0, 0, 0, 0, 0, 0, 0, 0, 0, 0, 0, 0, 0, 0, 0, 0, 0, 0, 0, 0, 0, 0, 0, 0, 0, 0, 0, 0, 0, 0, 0, 0, 0, 0, 0, 0, 0, 0, 0, 0, 0, 0, 0, 0, 0, 0, 0, 0, 0, 0, 0, 0, 0, 0, 0, 0, 0, 0, 1, 1, 1, 1, 1, 1, 1, 1, 1, 1, 1, 1, 1, 1, 1, 1, 1, 1, 1, 1, 1, 1, 1, 1, 1, 1, 1, 1, 1, 1, 1, 1, 1, 1, 1, 1, 1, 1, 1, 1, 1, 1, 1, 1, 1, 1, 1, 1, 1, 1, 1, 1, 1, 1, 1, 1, 1, 1, 1, 1, 1, 1, 1, 1, 1, 1, 1, 1, 1, 1, 1, 0, 0, 0, 0, 0, 0, 0, 0, 0, 0, 0, 0, 0, 0, 0, 0, 0, 0, 0, 0, 0, 0, 0, 0, 0, 0, 0, 0, 0, 0, 0, 0, 0, 0, 0, 0, 0, 0, 0, 0, 0, 0, 0, 0, 0, 0, 0, 0, 0, 0, 0, 0, 0, 0, 0, 0, 0, 0, 0, 0, 0, 0, 0, 0, 0, 0, 0, 1, 1, 1, 1, 1, 1, 1, 1, 1, 1, 1, 1, 1, 1, 1, 1, 1, 1, 1, 1, 1, 1, 1, 1, 1, 1, 1, 1, 1, 1, 1, 1, 1, 1, 1, 1, 1, 1, 1, 1], 'clss': [0, 10, 60, 133, 183, 245, 256, 334, 405, 472], 'src_txt': ['피해 남녀, 운전자 과실 100% 주장', '운전자 \"키 155cm…앉은키 안 보여\"    주차장에 앉아 담소를 나누고 있던 남녀 2명이 주차하려던 차에 충돌하기 직전 모습. /사진=유튜브 채널 \\'한문철 TV\\' 캡처', '한 차량이 좌회전하는 과정에서 주차장 바닥에 남녀가 앉아서 대화를 나누고 있는 것을 발견하지 못해 이들과 충돌한 사고가 발생했다. 피해자들은 차량 운전자의 과실 100%라며 합의금 400만원을 요구하고 있는 것으로 전해졌다.', \"최근 교통사고 전문 한문철 변호사가 운영하는 유튜브 채널 '한문철 TV'에는 '주차장에 앉아서 담소를 나누고 있던 남녀를 못 보고 차로 친 사고'라는 제목의 영상이 올라왔다.\", '영상 제보자이자 차량 운전자 A씨에 따르면 그는 지난 7월 25일 오후 7시께 인천 서구의 한 상가 지상 주차장에 주차하기 위해 진입했다. 이후 주차 자리를 찾던 A씨는 구석을 돌아 주차하려 했다.', \"    영상=유튜브 채널 '한문철 TV' 캡처\", '이때, 코너를 도니 양반다리를 하고 주차장 바닥에 앉아 있던 50대 후반의 남녀 2명이 있었던 것. A씨는 이를 미처 확인하지 못했고, 블랙박스에는 이들이 A씨 차량을 발견하고 일어나려는 듯했으나 결국 차에 충돌하는 모습이 담겼다.', 'A씨는 당시 상황에 대해 \"제 블랙박스는 높게 달려있어 보이지만 제 키는 155cm라 앉은키에서는 (남녀가) 보이지도 않았고 주차장 코너에 사람이 앉아 있을 거라 생각도 못 했다\"고 토로했다.', '이어 \"코너 쪽 흰색 차량이 없었다면 보였겠지만 돌자마자 있다 보니 인사 사고가 발생했다\"라며 \"합의금 얘기를 계속하고 (본인들 업무에 있어) 단체예약 놓친 거까지 배상을 원했다고 들었다\"고 덧붙였다.', '피해자들은 사고 직후 합의금 400만원을 요구하다가 이틀 뒤 5일간 병원에 입원했으며, 합의금을 300만원으로 내리더니 현재는 250만원을 원하고 있다는 게 A씨의 설명이다. 또한 이들의 총병원비는 133만원 정도로, 퇴원 후 통원 치료는 받고 있지 않은 것으로 전해졌다.', '이 같은 사연을 접한 한문철 변호사는 \"A씨 시야에서는 주차장에 앉아있는 사람이 보이지 않았을 것 같다. A씨 잘못이 없다는 의견\"이라며 \"(보험사에) 실사를 통해 운전자 시야에 앉아있는 사람이 보이는지 확인해 달라고 요청해야 한다\"고 말했다.', '그러면서 \"오히려 상대측이 치료비를 토해내야 하는 상황\"이라며 \"\\'받은 걸 토해내겠냐, 아니면 치료해준 것으로 끝내겠냐\\'는 식으로 상대가 선택하도록 하는 방법도 있을 것 같다. 상대가 먼저 소송 걸어오도록 하는 것이 차선책\"이라고 조언했다.'], 'tgt_txt': 'none'}]\n"
     ]
    }
   ],
   "source": [
    "# POS 태깅 \n",
    "import json\n",
    "from kiwipiepy import Kiwi\n",
    "crawled = json.load(open(\"../crawled_data/result.json\"))[\"content\"]\n",
    "kiwi = Kiwi(num_workers = 6)\n",
    "postagged = list()\n",
    "tokenize_list = list(kiwi.tokenize(crawled))\n",
    "for sen in tokenize_list:\n",
    "    sen_pos = list()\n",
    "    for char in sen:\n",
    "        token = char.form + \"/\" + char.tag\n",
    "        sen_pos.append(token)\n",
    "    postagged.append(sen_pos)\n",
    "    \n",
    "# bert 인풋으로 가공\n",
    "news = format_to_dict(postagged, crawled)\n",
    "print(news)"
   ]
  },
  {
   "cell_type": "code",
   "execution_count": 18,
   "metadata": {},
   "outputs": [
    {
     "name": "stdout",
     "output_type": "stream",
     "text": [
      "{'encoder': 'transformer', 'mode': 'summary', 'bert_data_path': '/home/dongwon/korbertsum/bert_data/korean', 'model_path': '/home/dongwon/korbertsum/models/bert_classifier', 'bert_model': '/home/dongwon/001_bert_morp_pytorch', 'result_path': '/home/dongwon/korbertsum/results/korean', 'temp_dir': '.', 'bert_config_path': '/home/dongwon/001_bert_morp_pytorch/bert_config.json', 'batch_size': 1000, 'use_interval': True, 'hidden_size': 128, 'ff_size': 512, 'heads': 4, 'inter_layers': 2, 'rnn_size': 512, 'param_init': 0, 'param_init_glorot': True, 'dropout': 0.1, 'optim': 'adam', 'lr': 0.002, 'report_every': 1, 'save_checkpoint_steps': 5, 'block_trigram': True, 'recall_eval': False, 'accum_count': 1, 'world_size': 1, 'visible_gpus': '-1', 'gpu_ranks': '0', 'log_file': '/home/dongwon/korbertsum/logs/bert_classifier', 'test_from': '/home/dongwon/korbertsum/models/bert_classifier/model_step_1000.pt'}\n",
      "gpu_rank 0\n",
      "피해 남녀, 운전자 과실 100% 주장<q>영상 제보자이자 차량 운전자 A씨에 따르면 그는 지난 7월 25일 오후 7시께 인천 서구의 한 상가 지상 주차장에 주차하기 위해 진입했다. 이후 주차 자리를 찾던 A씨는 구석을 돌아 주차하려 했다.<q>최근 교통사고 전문 한문철 변호사가 운영하는 유튜브 채널 '한문철 TV'에는 '주차장에 앉아서 담소를 나누고 있던 남녀를 못 보고 차로 친 사고'라는 제목의 영상이 올라왔다. none\n",
      "피해 남녀, 운전자 과실 100% 주장<q>영상 제보자이자 차량 운전자 A씨에 따르면 그는 지난 7월 25일 오후 7시께 인천 서구의 한 상가 지상 주차장에 주차하기 위해 진입했다. 이후 주차 자리를 찾던 A씨는 구석을 돌아 주차하려 했다.<q>최근 교통사고 전문 한문철 변호사가 운영하는 유튜브 채널 '한문철 TV'에는 '주차장에 앉아서 담소를 나누고 있던 남녀를 못 보고 차로 친 사고'라는 제목의 영상이 올라왔다.\n"
     ]
    }
   ],
   "source": [
    "summary_result = summary(args, news, 0, \"\", None)[0]\n",
    "print(summary_result)"
   ]
  }
 ],
 "metadata": {
  "kernelspec": {
   "display_name": "ai",
   "language": "python",
   "name": "python3"
  },
  "language_info": {
   "codemirror_mode": {
    "name": "ipython",
    "version": 3
   },
   "file_extension": ".py",
   "mimetype": "text/x-python",
   "name": "python",
   "nbconvert_exporter": "python",
   "pygments_lexer": "ipython3",
   "version": "3.11.4"
  },
  "orig_nbformat": 4
 },
 "nbformat": 4,
 "nbformat_minor": 2
}
